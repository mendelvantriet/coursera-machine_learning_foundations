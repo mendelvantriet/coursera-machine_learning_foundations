{
 "cells": [
  {
   "cell_type": "code",
   "execution_count": 1,
   "metadata": {
    "collapsed": true
   },
   "outputs": [],
   "source": [
    "import pandas as pd\n",
    "import numpy as np\n",
    "import nltk\n",
    "from nltk.tokenize import RegexpTokenizer\n",
    "from collections import Counter\n",
    "from sklearn.feature_extraction.text import TfidfVectorizer\n",
    "from sklearn.metrics.pairwise import cosine_similarity\n",
    "from sklearn.neighbors import NearestNeighbors"
   ]
  },
  {
   "cell_type": "code",
   "execution_count": 2,
   "metadata": {
    "collapsed": true
   },
   "outputs": [],
   "source": [
    "df = pd.read_csv('people_wiki.csv')"
   ]
  },
  {
   "cell_type": "markdown",
   "metadata": {},
   "source": [
    "## Explore"
   ]
  },
  {
   "cell_type": "code",
   "execution_count": 3,
   "metadata": {
    "collapsed": false
   },
   "outputs": [
    {
     "data": {
      "text/html": [
       "<div style=\"max-height:1000px;max-width:1500px;overflow:auto;\">\n",
       "<table border=\"1\" class=\"dataframe\">\n",
       "  <thead>\n",
       "    <tr style=\"text-align: right;\">\n",
       "      <th></th>\n",
       "      <th>URI</th>\n",
       "      <th>name</th>\n",
       "      <th>text</th>\n",
       "    </tr>\n",
       "  </thead>\n",
       "  <tbody>\n",
       "    <tr>\n",
       "      <th>0</th>\n",
       "      <td>       &lt;http://dbpedia.org/resource/Digby_Morrell&gt;</td>\n",
       "      <td>       Digby Morrell</td>\n",
       "      <td> digby morrell born 10 october 1979 is a former...</td>\n",
       "    </tr>\n",
       "    <tr>\n",
       "      <th>1</th>\n",
       "      <td>      &lt;http://dbpedia.org/resource/Alfred_J._Lewy&gt;</td>\n",
       "      <td>      Alfred J. Lewy</td>\n",
       "      <td> alfred j lewy aka sandy lewy graduated from un...</td>\n",
       "    </tr>\n",
       "    <tr>\n",
       "      <th>2</th>\n",
       "      <td>       &lt;http://dbpedia.org/resource/Harpdog_Brown&gt;</td>\n",
       "      <td>       Harpdog Brown</td>\n",
       "      <td> harpdog brown is a singer and harmonica player...</td>\n",
       "    </tr>\n",
       "    <tr>\n",
       "      <th>3</th>\n",
       "      <td> &lt;http://dbpedia.org/resource/Franz_Rottensteiner&gt;</td>\n",
       "      <td> Franz Rottensteiner</td>\n",
       "      <td> franz rottensteiner born in waidmannsfeld lowe...</td>\n",
       "    </tr>\n",
       "    <tr>\n",
       "      <th>4</th>\n",
       "      <td>              &lt;http://dbpedia.org/resource/G-Enka&gt;</td>\n",
       "      <td>              G-Enka</td>\n",
       "      <td> henry krvits born 30 december 1974 in tallinn ...</td>\n",
       "    </tr>\n",
       "  </tbody>\n",
       "</table>\n",
       "<p>5 rows × 3 columns</p>\n",
       "</div>"
      ],
      "text/plain": [
       "                                                 URI                 name  \\\n",
       "0        <http://dbpedia.org/resource/Digby_Morrell>        Digby Morrell   \n",
       "1       <http://dbpedia.org/resource/Alfred_J._Lewy>       Alfred J. Lewy   \n",
       "2        <http://dbpedia.org/resource/Harpdog_Brown>        Harpdog Brown   \n",
       "3  <http://dbpedia.org/resource/Franz_Rottensteiner>  Franz Rottensteiner   \n",
       "4               <http://dbpedia.org/resource/G-Enka>               G-Enka   \n",
       "\n",
       "                                                text  \n",
       "0  digby morrell born 10 october 1979 is a former...  \n",
       "1  alfred j lewy aka sandy lewy graduated from un...  \n",
       "2  harpdog brown is a singer and harmonica player...  \n",
       "3  franz rottensteiner born in waidmannsfeld lowe...  \n",
       "4  henry krvits born 30 december 1974 in tallinn ...  \n",
       "\n",
       "[5 rows x 3 columns]"
      ]
     },
     "execution_count": 3,
     "metadata": {},
     "output_type": "execute_result"
    }
   ],
   "source": [
    "df.head()"
   ]
  },
  {
   "cell_type": "code",
   "execution_count": 4,
   "metadata": {
    "collapsed": false
   },
   "outputs": [
    {
     "data": {
      "text/plain": [
       "59071"
      ]
     },
     "execution_count": 4,
     "metadata": {},
     "output_type": "execute_result"
    }
   ],
   "source": [
    "len(df)"
   ]
  },
  {
   "cell_type": "markdown",
   "metadata": {},
   "source": [
    "## Count words"
   ]
  },
  {
   "cell_type": "code",
   "execution_count": 5,
   "metadata": {
    "collapsed": false
   },
   "outputs": [
    {
     "data": {
      "text/html": [
       "<div style=\"max-height:1000px;max-width:1500px;overflow:auto;\">\n",
       "<table border=\"1\" class=\"dataframe\">\n",
       "  <thead>\n",
       "    <tr style=\"text-align: right;\">\n",
       "      <th></th>\n",
       "      <th>URI</th>\n",
       "      <th>name</th>\n",
       "      <th>text</th>\n",
       "      <th>word_count</th>\n",
       "    </tr>\n",
       "  </thead>\n",
       "  <tbody>\n",
       "    <tr>\n",
       "      <th>0</th>\n",
       "      <td>       &lt;http://dbpedia.org/resource/Digby_Morrell&gt;</td>\n",
       "      <td>       Digby Morrell</td>\n",
       "      <td> digby morrell born 10 october 1979 is a former...</td>\n",
       "      <td> {'was': 5, '21': 1, 'until': 1, 'acted': 1, 'i...</td>\n",
       "    </tr>\n",
       "    <tr>\n",
       "      <th>1</th>\n",
       "      <td>      &lt;http://dbpedia.org/resource/Alfred_J._Lewy&gt;</td>\n",
       "      <td>      Alfred J. Lewy</td>\n",
       "      <td> alfred j lewy aka sandy lewy graduated from un...</td>\n",
       "      <td> {'thomas': 1, '1981': 1, 'follows': 1, 'modali...</td>\n",
       "    </tr>\n",
       "    <tr>\n",
       "      <th>2</th>\n",
       "      <td>       &lt;http://dbpedia.org/resource/Harpdog_Brown&gt;</td>\n",
       "      <td>       Harpdog Brown</td>\n",
       "      <td> harpdog brown is a singer and harmonica player...</td>\n",
       "      <td> {'promoter': 1, 'best': 4, 'combos': 1, 'socie...</td>\n",
       "    </tr>\n",
       "    <tr>\n",
       "      <th>3</th>\n",
       "      <td> &lt;http://dbpedia.org/resource/Franz_Rottensteiner&gt;</td>\n",
       "      <td> Franz Rottensteiner</td>\n",
       "      <td> franz rottensteiner born in waidmannsfeld lowe...</td>\n",
       "      <td> {'continental': 1, 'stated': 1, 'until': 1, 'l...</td>\n",
       "    </tr>\n",
       "    <tr>\n",
       "      <th>4</th>\n",
       "      <td>              &lt;http://dbpedia.org/resource/G-Enka&gt;</td>\n",
       "      <td>              G-Enka</td>\n",
       "      <td> henry krvits born 30 december 1974 in tallinn ...</td>\n",
       "      <td> {'homophobes': 1, 'famous': 3, 'paul': 2, 'sta...</td>\n",
       "    </tr>\n",
       "  </tbody>\n",
       "</table>\n",
       "<p>5 rows × 4 columns</p>\n",
       "</div>"
      ],
      "text/plain": [
       "                                                 URI                 name  \\\n",
       "0        <http://dbpedia.org/resource/Digby_Morrell>        Digby Morrell   \n",
       "1       <http://dbpedia.org/resource/Alfred_J._Lewy>       Alfred J. Lewy   \n",
       "2        <http://dbpedia.org/resource/Harpdog_Brown>        Harpdog Brown   \n",
       "3  <http://dbpedia.org/resource/Franz_Rottensteiner>  Franz Rottensteiner   \n",
       "4               <http://dbpedia.org/resource/G-Enka>               G-Enka   \n",
       "\n",
       "                                                text  \\\n",
       "0  digby morrell born 10 october 1979 is a former...   \n",
       "1  alfred j lewy aka sandy lewy graduated from un...   \n",
       "2  harpdog brown is a singer and harmonica player...   \n",
       "3  franz rottensteiner born in waidmannsfeld lowe...   \n",
       "4  henry krvits born 30 december 1974 in tallinn ...   \n",
       "\n",
       "                                          word_count  \n",
       "0  {'was': 5, '21': 1, 'until': 1, 'acted': 1, 'i...  \n",
       "1  {'thomas': 1, '1981': 1, 'follows': 1, 'modali...  \n",
       "2  {'promoter': 1, 'best': 4, 'combos': 1, 'socie...  \n",
       "3  {'continental': 1, 'stated': 1, 'until': 1, 'l...  \n",
       "4  {'homophobes': 1, 'famous': 3, 'paul': 2, 'sta...  \n",
       "\n",
       "[5 rows x 4 columns]"
      ]
     },
     "execution_count": 5,
     "metadata": {},
     "output_type": "execute_result"
    }
   ],
   "source": [
    "tokenizer = RegexpTokenizer(r'\\w+')\n",
    "df['word_count'] = df['text'].apply(lambda x : dict(Counter(tokenizer.tokenize(x))))\n",
    "df.head()"
   ]
  },
  {
   "cell_type": "markdown",
   "metadata": {},
   "source": [
    "## Compute tfidf's"
   ]
  },
  {
   "cell_type": "code",
   "execution_count": 6,
   "metadata": {
    "collapsed": false
   },
   "outputs": [
    {
     "data": {
      "text/html": [
       "<div style=\"max-height:1000px;max-width:1500px;overflow:auto;\">\n",
       "<table border=\"1\" class=\"dataframe\">\n",
       "  <thead>\n",
       "    <tr style=\"text-align: right;\">\n",
       "      <th></th>\n",
       "      <th>URI</th>\n",
       "      <th>name</th>\n",
       "      <th>text</th>\n",
       "      <th>word_count</th>\n",
       "      <th>tfidf</th>\n",
       "    </tr>\n",
       "  </thead>\n",
       "  <tbody>\n",
       "    <tr>\n",
       "      <th>0</th>\n",
       "      <td>       &lt;http://dbpedia.org/resource/Digby_Morrell&gt;</td>\n",
       "      <td>       Digby Morrell</td>\n",
       "      <td> digby morrell born 10 october 1979 is a former...</td>\n",
       "      <td> {'was': 5, '21': 1, 'until': 1, 'acted': 1, 'i...</td>\n",
       "      <td> {'2002': 2.87532951742, 'afl': 5.6986537577, '...</td>\n",
       "    </tr>\n",
       "    <tr>\n",
       "      <th>1</th>\n",
       "      <td>      &lt;http://dbpedia.org/resource/Alfred_J._Lewy&gt;</td>\n",
       "      <td>      Alfred J. Lewy</td>\n",
       "      <td> alfred j lewy aka sandy lewy graduated from un...</td>\n",
       "      <td> {'thomas': 1, '1981': 1, 'follows': 1, 'modali...</td>\n",
       "      <td> {'totally': 6.80472876757, 'jet': 6.8625483384...</td>\n",
       "    </tr>\n",
       "    <tr>\n",
       "      <th>2</th>\n",
       "      <td>       &lt;http://dbpedia.org/resource/Harpdog_Brown&gt;</td>\n",
       "      <td>       Harpdog Brown</td>\n",
       "      <td> harpdog brown is a singer and harmonica player...</td>\n",
       "      <td> {'promoter': 1, 'best': 4, 'combos': 1, 'socie...</td>\n",
       "      <td> {'promoter': 6.63465418439, 'extensively': 4.7...</td>\n",
       "    </tr>\n",
       "    <tr>\n",
       "      <th>3</th>\n",
       "      <td> &lt;http://dbpedia.org/resource/Franz_Rottensteiner&gt;</td>\n",
       "      <td> Franz Rottensteiner</td>\n",
       "      <td> franz rottensteiner born in waidmannsfeld lowe...</td>\n",
       "      <td> {'continental': 1, 'stated': 1, 'until': 1, 'l...</td>\n",
       "      <td> {'was': 3.23809316195, 'stated': 4.74945329174...</td>\n",
       "    </tr>\n",
       "    <tr>\n",
       "      <th>4</th>\n",
       "      <td>              &lt;http://dbpedia.org/resource/G-Enka&gt;</td>\n",
       "      <td>              G-Enka</td>\n",
       "      <td> henry krvits born 30 december 1974 in tallinn ...</td>\n",
       "      <td> {'homophobes': 1, 'famous': 3, 'paul': 2, 'sta...</td>\n",
       "      <td> {'homophobes': 10.8879000292, 'famous': 12.643...</td>\n",
       "    </tr>\n",
       "  </tbody>\n",
       "</table>\n",
       "<p>5 rows × 5 columns</p>\n",
       "</div>"
      ],
      "text/plain": [
       "                                                 URI                 name  \\\n",
       "0        <http://dbpedia.org/resource/Digby_Morrell>        Digby Morrell   \n",
       "1       <http://dbpedia.org/resource/Alfred_J._Lewy>       Alfred J. Lewy   \n",
       "2        <http://dbpedia.org/resource/Harpdog_Brown>        Harpdog Brown   \n",
       "3  <http://dbpedia.org/resource/Franz_Rottensteiner>  Franz Rottensteiner   \n",
       "4               <http://dbpedia.org/resource/G-Enka>               G-Enka   \n",
       "\n",
       "                                                text  \\\n",
       "0  digby morrell born 10 october 1979 is a former...   \n",
       "1  alfred j lewy aka sandy lewy graduated from un...   \n",
       "2  harpdog brown is a singer and harmonica player...   \n",
       "3  franz rottensteiner born in waidmannsfeld lowe...   \n",
       "4  henry krvits born 30 december 1974 in tallinn ...   \n",
       "\n",
       "                                          word_count  \\\n",
       "0  {'was': 5, '21': 1, 'until': 1, 'acted': 1, 'i...   \n",
       "1  {'thomas': 1, '1981': 1, 'follows': 1, 'modali...   \n",
       "2  {'promoter': 1, 'best': 4, 'combos': 1, 'socie...   \n",
       "3  {'continental': 1, 'stated': 1, 'until': 1, 'l...   \n",
       "4  {'homophobes': 1, 'famous': 3, 'paul': 2, 'sta...   \n",
       "\n",
       "                                               tfidf  \n",
       "0  {'2002': 2.87532951742, 'afl': 5.6986537577, '...  \n",
       "1  {'totally': 6.80472876757, 'jet': 6.8625483384...  \n",
       "2  {'promoter': 6.63465418439, 'extensively': 4.7...  \n",
       "3  {'was': 3.23809316195, 'stated': 4.74945329174...  \n",
       "4  {'homophobes': 10.8879000292, 'famous': 12.643...  \n",
       "\n",
       "[5 rows x 5 columns]"
      ]
     },
     "execution_count": 6,
     "metadata": {},
     "output_type": "execute_result"
    }
   ],
   "source": [
    "vectorizer = TfidfVectorizer(min_df=2, max_df=0.95)\n",
    "X = vectorizer.fit_transform(df.text)\n",
    "idf = vectorizer.idf_\n",
    "idf_dict = dict(zip(vectorizer.get_feature_names(), idf))\n",
    "# visualize\n",
    "df['tfidf'] = df['word_count'].apply(lambda x : {k: v * idf_dict[k] for (k,v) in x.items() if k in idf_dict})\n",
    "df.head()"
   ]
  },
  {
   "cell_type": "markdown",
   "metadata": {},
   "source": [
    "## Get the word counts for Obama article"
   ]
  },
  {
   "cell_type": "code",
   "execution_count": 7,
   "metadata": {
    "collapsed": false
   },
   "outputs": [
    {
     "data": {
      "text/html": [
       "<div style=\"max-height:1000px;max-width:1500px;overflow:auto;\">\n",
       "<table border=\"1\" class=\"dataframe\">\n",
       "  <thead>\n",
       "    <tr style=\"text-align: right;\">\n",
       "      <th></th>\n",
       "      <th>0</th>\n",
       "    </tr>\n",
       "  </thead>\n",
       "  <tbody>\n",
       "    <tr>\n",
       "      <th>the</th>\n",
       "      <td> 40</td>\n",
       "    </tr>\n",
       "    <tr>\n",
       "      <th>in</th>\n",
       "      <td> 30</td>\n",
       "    </tr>\n",
       "    <tr>\n",
       "      <th>and</th>\n",
       "      <td> 21</td>\n",
       "    </tr>\n",
       "    <tr>\n",
       "      <th>of</th>\n",
       "      <td> 18</td>\n",
       "    </tr>\n",
       "    <tr>\n",
       "      <th>to</th>\n",
       "      <td> 14</td>\n",
       "    </tr>\n",
       "    <tr>\n",
       "      <th>his</th>\n",
       "      <td> 11</td>\n",
       "    </tr>\n",
       "    <tr>\n",
       "      <th>obama</th>\n",
       "      <td>  9</td>\n",
       "    </tr>\n",
       "    <tr>\n",
       "      <th>act</th>\n",
       "      <td>  8</td>\n",
       "    </tr>\n",
       "    <tr>\n",
       "      <th>a</th>\n",
       "      <td>  7</td>\n",
       "    </tr>\n",
       "    <tr>\n",
       "      <th>he</th>\n",
       "      <td>  7</td>\n",
       "    </tr>\n",
       "  </tbody>\n",
       "</table>\n",
       "<p>10 rows × 1 columns</p>\n",
       "</div>"
      ],
      "text/plain": [
       "        0\n",
       "the    40\n",
       "in     30\n",
       "and    21\n",
       "of     18\n",
       "to     14\n",
       "his    11\n",
       "obama   9\n",
       "act     8\n",
       "a       7\n",
       "he      7\n",
       "\n",
       "[10 rows x 1 columns]"
      ]
     },
     "execution_count": 7,
     "metadata": {},
     "output_type": "execute_result"
    }
   ],
   "source": [
    "obama = df[df.name == \"Barack Obama\"]\n",
    "\n",
    "wc = obama.iloc[0][\"word_count\"]\n",
    "wc_df = pd.DataFrame.from_dict(wc, orient='index')\n",
    "wc_df = wc_df.sort(0, ascending=False)\n",
    "wc_df.head(10)"
   ]
  },
  {
   "cell_type": "markdown",
   "metadata": {},
   "source": [
    "## Get the tfidf's for the Obama article"
   ]
  },
  {
   "cell_type": "code",
   "execution_count": 8,
   "metadata": {
    "collapsed": false
   },
   "outputs": [
    {
     "data": {
      "text/html": [
       "<div style=\"max-height:1000px;max-width:1500px;overflow:auto;\">\n",
       "<table border=\"1\" class=\"dataframe\">\n",
       "  <thead>\n",
       "    <tr style=\"text-align: right;\">\n",
       "      <th></th>\n",
       "      <th>0</th>\n",
       "    </tr>\n",
       "  </thead>\n",
       "  <tbody>\n",
       "    <tr>\n",
       "      <th>obama</th>\n",
       "      <td> 52.277114</td>\n",
       "    </tr>\n",
       "    <tr>\n",
       "      <th>act</th>\n",
       "      <td> 35.674051</td>\n",
       "    </tr>\n",
       "    <tr>\n",
       "      <th>iraq</th>\n",
       "      <td> 21.741728</td>\n",
       "    </tr>\n",
       "    <tr>\n",
       "      <th>law</th>\n",
       "      <td> 20.721856</td>\n",
       "    </tr>\n",
       "    <tr>\n",
       "      <th>control</th>\n",
       "      <td> 18.884330</td>\n",
       "    </tr>\n",
       "    <tr>\n",
       "      <th>us</th>\n",
       "      <td> 17.592044</td>\n",
       "    </tr>\n",
       "    <tr>\n",
       "      <th>ordered</th>\n",
       "      <td> 17.526980</td>\n",
       "    </tr>\n",
       "    <tr>\n",
       "      <th>military</th>\n",
       "      <td> 17.114203</td>\n",
       "    </tr>\n",
       "    <tr>\n",
       "      <th>democratic</th>\n",
       "      <td> 16.409250</td>\n",
       "    </tr>\n",
       "    <tr>\n",
       "      <th>involvement</th>\n",
       "      <td> 15.780837</td>\n",
       "    </tr>\n",
       "  </tbody>\n",
       "</table>\n",
       "<p>10 rows × 1 columns</p>\n",
       "</div>"
      ],
      "text/plain": [
       "                     0\n",
       "obama        52.277114\n",
       "act          35.674051\n",
       "iraq         21.741728\n",
       "law          20.721856\n",
       "control      18.884330\n",
       "us           17.592044\n",
       "ordered      17.526980\n",
       "military     17.114203\n",
       "democratic   16.409250\n",
       "involvement  15.780837\n",
       "\n",
       "[10 rows x 1 columns]"
      ]
     },
     "execution_count": 8,
     "metadata": {},
     "output_type": "execute_result"
    }
   ],
   "source": [
    "tfidf = obama.iloc[0][\"tfidf\"]\n",
    "tfidf_df = pd.DataFrame.from_dict(tfidf, orient='index')\n",
    "tfidf_df = tfidf_df.sort(0, ascending=False)\n",
    "tfidf_df.head(10)"
   ]
  },
  {
   "cell_type": "markdown",
   "metadata": {},
   "source": [
    "## Cosine similarity"
   ]
  },
  {
   "cell_type": "code",
   "execution_count": 9,
   "metadata": {
    "collapsed": false
   },
   "outputs": [
    {
     "name": "stdout",
     "output_type": "stream",
     "text": [
      "[[ 1.]]\n",
      "[[ 0.22615606]]\n",
      "[[ 0.05833899]]\n",
      "[[ 0.0832253]]\n"
     ]
    }
   ],
   "source": [
    "clinton = df[df['name'] == 'Bill Clinton']\n",
    "beckham = df[df['name'] == 'David Beckham']\n",
    "clinton_vec = vectorizer.transform(clinton['text'])[0]\n",
    "beckham_vec = vectorizer.transform(beckham['text'])[0]\n",
    "obama_vec = vectorizer.transform(obama['text'])[0]\n",
    "\n",
    "print(cosine_similarity(obama_vec, obama_vec))\n",
    "print(cosine_similarity(obama_vec, clinton_vec))\n",
    "print(cosine_similarity(obama_vec, beckham_vec))\n",
    "print(cosine_similarity(clinton_vec, beckham_vec))"
   ]
  },
  {
   "cell_type": "markdown",
   "metadata": {},
   "source": [
    "## N-Nearest Neighbor"
   ]
  },
  {
   "cell_type": "code",
   "execution_count": 10,
   "metadata": {
    "collapsed": false
   },
   "outputs": [],
   "source": [
    "nn = NearestNeighbors(n_neighbors=4, algorithm='auto').fit(X)"
   ]
  },
  {
   "cell_type": "code",
   "execution_count": 11,
   "metadata": {
    "collapsed": false
   },
   "outputs": [
    {
     "data": {
      "text/html": [
       "<div style=\"max-height:1000px;max-width:1500px;overflow:auto;\">\n",
       "<table border=\"1\" class=\"dataframe\">\n",
       "  <thead>\n",
       "    <tr style=\"text-align: right;\">\n",
       "      <th></th>\n",
       "      <th>index</th>\n",
       "      <th>name</th>\n",
       "      <th>distance</th>\n",
       "    </tr>\n",
       "  </thead>\n",
       "  <tbody>\n",
       "    <tr>\n",
       "      <th>0 </th>\n",
       "      <td> 35817</td>\n",
       "      <td>            Barack Obama</td>\n",
       "      <td>0.000</td>\n",
       "    </tr>\n",
       "    <tr>\n",
       "      <th>1 </th>\n",
       "      <td> 24478</td>\n",
       "      <td>               Joe Biden</td>\n",
       "      <td>1.138</td>\n",
       "    </tr>\n",
       "    <tr>\n",
       "      <th>2 </th>\n",
       "      <td> 38376</td>\n",
       "      <td>          Samantha Power</td>\n",
       "      <td>1.191</td>\n",
       "    </tr>\n",
       "    <tr>\n",
       "      <th>3 </th>\n",
       "      <td> 38714</td>\n",
       "      <td> Eric Stern (politician)</td>\n",
       "      <td>1.204</td>\n",
       "    </tr>\n",
       "    <tr>\n",
       "      <th>4 </th>\n",
       "      <td> 57108</td>\n",
       "      <td>  Hillary Rodham Clinton</td>\n",
       "      <td>1.206</td>\n",
       "    </tr>\n",
       "    <tr>\n",
       "      <th>5 </th>\n",
       "      <td>  2412</td>\n",
       "      <td>         Joe the Plumber</td>\n",
       "      <td>1.212</td>\n",
       "    </tr>\n",
       "    <tr>\n",
       "      <th>6 </th>\n",
       "      <td> 46140</td>\n",
       "      <td>            Robert Gibbs</td>\n",
       "      <td>1.222</td>\n",
       "    </tr>\n",
       "    <tr>\n",
       "      <th>7 </th>\n",
       "      <td>  6796</td>\n",
       "      <td>             Eric Holder</td>\n",
       "      <td>1.223</td>\n",
       "    </tr>\n",
       "    <tr>\n",
       "      <th>8 </th>\n",
       "      <td>  7914</td>\n",
       "      <td>           Phil Schiliro</td>\n",
       "      <td>1.225</td>\n",
       "    </tr>\n",
       "    <tr>\n",
       "      <th>9 </th>\n",
       "      <td> 39357</td>\n",
       "      <td>             John McCain</td>\n",
       "      <td>1.229</td>\n",
       "    </tr>\n",
       "    <tr>\n",
       "      <th>10</th>\n",
       "      <td> 30804</td>\n",
       "      <td>          Richard Pildes</td>\n",
       "      <td>1.231</td>\n",
       "    </tr>\n",
       "  </tbody>\n",
       "</table>\n",
       "<p>11 rows × 3 columns</p>\n",
       "</div>"
      ],
      "text/plain": [
       "    index                     name  distance\n",
       "0   35817             Barack Obama     0.000\n",
       "1   24478                Joe Biden     1.138\n",
       "2   38376           Samantha Power     1.191\n",
       "3   38714  Eric Stern (politician)     1.204\n",
       "4   57108   Hillary Rodham Clinton     1.206\n",
       "5    2412          Joe the Plumber     1.212\n",
       "6   46140             Robert Gibbs     1.222\n",
       "7    6796              Eric Holder     1.223\n",
       "8    7914            Phil Schiliro     1.225\n",
       "9   39357              John McCain     1.229\n",
       "10  30804           Richard Pildes     1.231\n",
       "\n",
       "[11 rows x 3 columns]"
      ]
     },
     "execution_count": 11,
     "metadata": {},
     "output_type": "execute_result"
    }
   ],
   "source": [
    "distances, indices = nn.kneighbors(obama_vec, n_neighbors=11)\n",
    "nbrs = [(x, df.iloc[x][\"name\"], y) for (x,y) in list(zip(indices[0], distances[0])) ]\n",
    "pd.options.display.float_format = '{:,.3f}'.format\n",
    "pd.DataFrame(nbrs, columns=['index', 'name', 'distance'])"
   ]
  },
  {
   "cell_type": "code",
   "execution_count": null,
   "metadata": {
    "collapsed": true
   },
   "outputs": [],
   "source": []
  }
 ],
 "metadata": {
  "kernelspec": {
   "display_name": "Python 3",
   "language": "python",
   "name": "python3"
  },
  "language_info": {
   "codemirror_mode": {
    "name": "ipython",
    "version": 3
   },
   "file_extension": ".py",
   "mimetype": "text/x-python",
   "name": "python",
   "nbconvert_exporter": "python",
   "pygments_lexer": "ipython3",
   "version": "3.4.3"
  }
 },
 "nbformat": 4,
 "nbformat_minor": 0
}
